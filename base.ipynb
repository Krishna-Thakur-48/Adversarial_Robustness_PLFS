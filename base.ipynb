{
 "cells": [
  {
   "cell_type": "code",
   "execution_count": 1,
   "id": "7af6a31e",
   "metadata": {},
   "outputs": [
    {
     "name": "stdout",
     "output_type": "stream",
     "text": [
      "Folders created: ['data', 'results', 'reports', 'notebooks']\n"
     ]
    }
   ],
   "source": [
    "import os\n",
    "folders = [\n",
    "    \"data\",        # for raw and processed CSVs\n",
    "    \"results\",     # for saved outputs/plots\n",
    "    \"reports\",     # for your final PDF or LaTeX\n",
    "    \"notebooks\"    # where we’ll put your Jupyter notebook\n",
    "]\n",
    "for f in folders:\n",
    "    os.makedirs(f, exist_ok=True)\n",
    "print(\"Folders created:\", folders)\n"
   ]
  },
  {
   "cell_type": "code",
   "execution_count": null,
   "id": "d7982d50",
   "metadata": {},
   "outputs": [],
   "source": []
  }
 ],
 "metadata": {
  "kernelspec": {
   "display_name": "Python 3",
   "language": "python",
   "name": "python3"
  },
  "language_info": {
   "codemirror_mode": {
    "name": "ipython",
    "version": 3
   },
   "file_extension": ".py",
   "mimetype": "text/x-python",
   "name": "python",
   "nbconvert_exporter": "python",
   "pygments_lexer": "ipython3",
   "version": "3.13.3"
  }
 },
 "nbformat": 4,
 "nbformat_minor": 5
}
